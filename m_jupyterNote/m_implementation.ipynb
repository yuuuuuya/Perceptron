{
 "cells": [
  {
   "cell_type": "code",
   "execution_count": 1,
   "metadata": {
    "collapsed": true
   },
   "outputs": [],
   "source": [
    "import urllib.request\n",
    "import os.path\n",
    "import matplotlib \n",
    "from matplotlib import pyplot as plt\n",
    "%matplotlib inline\n",
    "import numpy as np\n",
    "import pdb\n",
    "import sys\n",
    "sys.path.append('/Users/inagakiyuuya/Dropbox/Inagaki/dataset/mnist_data')\n",
    "import LoadMNIST as load\n",
    "\n",
    "sys.path.append('../m_src')\n",
    "\n",
    "import m_cross as cross\n",
    "import m_funcutil as fun\n",
    "from m_funcutil import*\n",
    "\n",
    "datapath = '/Users/inagakiyuuya/Dropbox/Inagaki/dataset/mnist_data'\n",
    "imgTrain = load.readMNIST('train_img', datapath)\n",
    "labTrain = load.readMNIST('train_label', datapath)\n",
    "\n",
    "train, test = cross.CroVali_Data(imgTrain, labTrain, splits = 3, normMode = 'Max')\n",
    "inputarray, outputvec= train[0]\n",
    "paraW = np.random.normal(0, 0.01, size = (10,784))"
   ]
  },
  {
   "cell_type": "code",
   "execution_count": 2,
   "metadata": {
    "collapsed": true
   },
   "outputs": [],
   "source": [
    "dataNum = 3\n",
    "inputVec = inputarray[dataNum]\n",
    "outputVal = outputvec[dataNum]"
   ]
  },
  {
   "cell_type": "code",
   "execution_count": 21,
   "metadata": {},
   "outputs": [
    {
     "data": {
      "text/plain": [
       "array([[ 16.24345364,  -6.11756414,  -5.28171752, -10.72968622,\n",
       "          8.65407629]])"
      ]
     },
     "execution_count": 21,
     "metadata": {},
     "output_type": "execute_result"
    }
   ],
   "source": [
    "np.random.seed(1)\n",
    "array = np.random.normal(0,10, size=(1,5))\n",
    "array"
   ]
  },
  {
   "cell_type": "code",
   "execution_count": 22,
   "metadata": {},
   "outputs": [
    {
     "data": {
      "text/plain": [
       "-10.729686221561705"
      ]
     },
     "execution_count": 22,
     "metadata": {},
     "output_type": "execute_result"
    }
   ],
   "source": [
    "minval = np.amin(array)\n",
    "minval"
   ]
  },
  {
   "cell_type": "code",
   "execution_count": 28,
   "metadata": {},
   "outputs": [],
   "source": [
    "positiveArray = array - minval"
   ]
  },
  {
   "cell_type": "code",
   "execution_count": 29,
   "metadata": {},
   "outputs": [
    {
     "data": {
      "text/plain": [
       "16.243453636632417"
      ]
     },
     "execution_count": 29,
     "metadata": {},
     "output_type": "execute_result"
    }
   ],
   "source": [
    "maxval = np.amax(array)\n",
    "maxval"
   ]
  },
  {
   "cell_type": "code",
   "execution_count": 30,
   "metadata": {},
   "outputs": [
    {
     "data": {
      "text/plain": [
       "13.486569929097062"
      ]
     },
     "execution_count": 30,
     "metadata": {},
     "output_type": "execute_result"
    }
   ],
   "source": [
    "norm = (maxval - minval)/2\n",
    "norm"
   ]
  },
  {
   "cell_type": "code",
   "execution_count": 31,
   "metadata": {},
   "outputs": [
    {
     "data": {
      "text/plain": [
       "array([[ 13.48656993,  -8.87444784,  -8.03860123, -13.48656993,\n",
       "          5.89719259]])"
      ]
     },
     "execution_count": 31,
     "metadata": {},
     "output_type": "execute_result"
    }
   ],
   "source": [
    "positiveArray - norm"
   ]
  },
  {
   "cell_type": "code",
   "execution_count": 2,
   "metadata": {},
   "outputs": [
    {
     "name": "stdout",
     "output_type": "stream",
     "text": [
      "[  8.31008538e-10   2.97587693e-35   4.41990898e-39   1.30054204e-20\n",
      "   3.25196805e-26   9.99999938e-01   6.07880122e-08   1.47593117e-29\n",
      "   3.23249204e-52   1.22912103e-58]\n"
     ]
    },
    {
     "data": {
      "text/plain": [
       "(0, 1)"
      ]
     },
     "execution_count": 2,
     "metadata": {},
     "output_type": "execute_result"
    },
    {
     "data": {
      "image/png": "[encoded data removed]",
      "text/plain": [
       "<matplotlib.figure.Figure at 0x107fda7f0>"
      ]
     },
     "metadata": {},
     "output_type": "display_data"
    }
   ],
   "source": [
    "np.random.seed(1)\n",
    "\n",
    "unko = np.abs(np.random.normal(0,1,size = 10))\n",
    "unko = unko / np.sum(unko)\n",
    "\n",
    "p = 60\n",
    "unkolp  = unko**p\n",
    "unkolp = unkolp / np.sum(unkolp)\n",
    "\n",
    "print(unkolp)\n",
    "\n",
    "\n",
    "\n",
    "\n",
    "heat = 1.\n",
    "unko2 = np.exp(heat * unko)\n",
    "unko2 = unko2 / np.sum(unko2)\n",
    "\n",
    "plt.plot(unko, color = 'blue',)\n",
    "plt.plot(unko2, color = 'red')\n",
    "plt.plot(unkolp, color = 'green')\n",
    "plt.ylim([0,1])"
   ]
  },
  {
   "cell_type": "code",
   "execution_count": 3,
   "metadata": {},
   "outputs": [
    {
     "data": {
      "text/plain": [
       "array([ 0.16116749,  0.06069845,  0.05240518,  0.10645991,  0.08586572,\n",
       "        0.22835859,  0.17312016,  0.07552692,  0.03165505,  0.02474252])"
      ]
     },
     "execution_count": 3,
     "metadata": {},
     "output_type": "execute_result"
    }
   ],
   "source": [
    "unko"
   ]
  },
  {
   "cell_type": "code",
   "execution_count": null,
   "metadata": {
    "collapsed": true
   },
   "outputs": [],
   "source": []
  }
 ],
 "metadata": {
  "kernelspec": {
   "display_name": "Python 3",
   "language": "python",
   "name": "python3"
  },
  "language_info": {
   "codemirror_mode": {
    "name": "ipython",
    "version": 3
   },
   "file_extension": ".py",
   "mimetype": "text/x-python",
   "name": "python",
   "nbconvert_exporter": "python",
   "pygments_lexer": "ipython3",
   "version": "3.6.3"
  }
 },
 "nbformat": 4,
 "nbformat_minor": 2
}
