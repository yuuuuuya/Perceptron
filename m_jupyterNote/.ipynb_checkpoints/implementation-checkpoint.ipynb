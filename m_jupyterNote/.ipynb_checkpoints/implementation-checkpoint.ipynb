{
 "cells": [
  {
   "cell_type": "code",
   "execution_count": 2,
   "metadata": {},
   "outputs": [],
   "source": [
    "import urllib.request\n",
    "import os.path\n",
    "import matplotlib \n",
    "from matplotlib import pyplot as plt\n",
    "%matplotlib inline\n",
    "import numpy as np\n",
    "import pdb\n",
    "\n",
    "import sys\n",
    "sys.path.append('../m_src')\n",
    "\n",
    "\n",
    "import m_robbinsutil as rob\n",
    "from m_robbinsutil import*\n",
    "\n",
    "import m_funcutil as fun\n",
    "from m_funcutil import*\n",
    "\n",
    "import m_datautil as data\n",
    "from m_datautil import*\n",
    "\n",
    "trainData = np.c_[imgTrain,labTrain]\n",
    "noNorm_inputArray, outputVec = dataMatch(imgTrain, labTrain, classNum=10)\n",
    "inputArray = Normalization(noNorm_inputArray, mode = 'Laplace')"
   ]
  },
  {
   "cell_type": "code",
   "execution_count": null,
   "metadata": {
    "collapsed": true
   },
   "outputs": [],
   "source": []
  }
 ],
 "metadata": {
  "kernelspec": {
   "display_name": "Python 3",
   "language": "python",
   "name": "python3"
  },
  "language_info": {
   "codemirror_mode": {
    "name": "ipython",
    "version": 3
   },
   "file_extension": ".py",
   "mimetype": "text/x-python",
   "name": "python",
   "nbconvert_exporter": "python",
   "pygments_lexer": "ipython3",
   "version": "3.6.3"
  }
 },
 "nbformat": 4,
 "nbformat_minor": 2
}
