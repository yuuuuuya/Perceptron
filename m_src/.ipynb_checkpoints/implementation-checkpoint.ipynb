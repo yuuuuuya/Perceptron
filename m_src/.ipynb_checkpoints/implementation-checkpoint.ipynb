{
 "cells": [
  {
   "cell_type": "code",
   "execution_count": 1,
   "metadata": {},
   "outputs": [
    {
     "name": "stdout",
     "output_type": "stream",
     "text": [
      "(54210, 784)\n"
     ]
    }
   ],
   "source": [
    "import urllib.request\n",
    "import os.path\n",
    "import matplotlib \n",
    "from matplotlib import pyplot as plt\n",
    "%matplotlib inline\n",
    "import numpy as np\n",
    "import pdb\n",
    "\n",
    "import m_funcutil as fun\n",
    "from m_funcutil import*\n",
    "\n",
    "import m_datautil as data\n",
    "from m_datautil import*\n",
    "\n",
    "trainData = np.c_[imgTrain,labTrain]\n",
    "noNorm_inputdata, outputdata = dataMatch(imgTrain, labTrain, classNum=10)\n",
    "inputdata = Normalization(noNorm_inputdata, mode = 'Laplace')\n",
    "\n",
    "print(noNorm_inputdata.shape)"
   ]
  },
  {
   "cell_type": "code",
   "execution_count": 2,
   "metadata": {},
   "outputs": [
    {
     "name": "stdout",
     "output_type": "stream",
     "text": [
      "diff type is [other]\n",
      "diff type is [other]\n",
      "diff type is [other]\n",
      "diff type is [other]\n",
      "diff type is [other]\n",
      "diff type is [other]\n",
      "diff type is [other]\n",
      "diff type is [other]\n",
      "diff type is [other]\n",
      "diff type is [main]\n"
     ]
    },
    {
     "data": {
      "text/plain": [
       "(9, array([[  1.56903720e-28,   1.56903720e-28,   1.56903720e-28, ...,\n",
       "           1.56903720e-28,   1.56903720e-28,   1.56903720e-28],\n",
       "        [  1.56903720e-28,   1.56903720e-28,   1.56903720e-28, ...,\n",
       "           1.56903720e-28,   1.56903720e-28,   1.56903720e-28],\n",
       "        [  1.56903720e-28,   1.56903720e-28,   1.56903720e-28, ...,\n",
       "           1.56903720e-28,   1.56903720e-28,   1.56903720e-28],\n",
       "        ..., \n",
       "        [  1.56903720e-28,   1.56903720e-28,   1.56903720e-28, ...,\n",
       "           1.56903720e-28,   1.56903720e-28,   1.56903720e-28],\n",
       "        [  1.56903720e-28,   1.56903720e-28,   1.56903720e-28, ...,\n",
       "           1.56903720e-28,   1.56903720e-28,   1.56903720e-28],\n",
       "        [ -3.54533778e-01,  -3.54533778e-01,  -3.54533778e-01, ...,\n",
       "          -3.54533778e-01,  -3.54533778e-01,  -3.54533778e-01]]))"
      ]
     },
     "execution_count": 2,
     "metadata": {},
     "output_type": "execute_result"
    }
   ],
   "source": [
    "dataNum = 54209\n",
    "\n",
    "inputVec = inputdata[dataNum]\n",
    "outputVal = outputdata[dataNum]\n",
    "#paraW_vec = W[dataNum]\n",
    "\n",
    "\n",
    "outputVal , diff_softmax_medel(inputVec, outputVal, paraW_array)\n",
    "#inputVec\n",
    "#,outputVal,paraW_vec"
   ]
  },
  {
   "cell_type": "code",
   "execution_count": 5,
   "metadata": {},
   "outputs": [
    {
     "name": "stdout",
     "output_type": "stream",
     "text": [
      "182\n",
      "diff type is [other]\n",
      "diff type is [other]\n",
      "diff type is [other]\n",
      "diff type is [other]\n",
      "diff type is [other]\n",
      "diff type is [other]\n",
      "diff type is [other]\n",
      "diff type is [other]\n",
      "diff type is [other]\n",
      "diff type is [main]\n",
      "diff type is [other]\n",
      "diff type is [other]\n",
      "diff type is [other]\n",
      "diff type is [other]\n",
      "diff type is [other]\n",
      "diff type is [other]\n",
      "diff type is [other]\n",
      "diff type is [other]\n",
      "diff type is [other]\n",
      "diff type is [main]\n"
     ]
    },
    {
     "data": {
      "text/plain": [
       "(array([ -4.81080246e-28,  -4.81080246e-28,  -4.81080246e-28,\n",
       "         -4.81080246e-28,  -4.81080246e-28,  -4.81080246e-28,\n",
       "         -4.81080246e-28,  -4.81080246e-28,  -4.81080246e-28,\n",
       "          1.08703093e+00]),\n",
       " array([  1.56903720e-28,   1.56903720e-28,   1.56903720e-28,\n",
       "          1.56903720e-28,   1.56903720e-28,   1.56903720e-28,\n",
       "          1.56903720e-28,   1.56903720e-28,   1.56903720e-28,\n",
       "         -3.54533778e-01]))"
      ]
     },
     "execution_count": 5,
     "metadata": {},
     "output_type": "execute_result"
    }
   ],
   "source": [
    "Num = np.where(inputVec>0)[0][0]\n",
    "print(Num)\n",
    "important = diff_softmax_medel(inputVec, outputVal, paraW_array)[:,Num]\n",
    "Notimportant = diff_softmax_medel(inputVec, outputVal, paraW_array)[:,0]\n",
    "important, Notimportant"
   ]
  },
  {
   "cell_type": "code",
   "execution_count": 11,
   "metadata": {},
   "outputs": [
    {
     "data": {
      "text/plain": [
       "-0.33262905388528941"
      ]
     },
     "execution_count": 11,
     "metadata": {},
     "output_type": "execute_result"
    }
   ],
   "source": [
    "np.where(inputVec>0)\n",
    "(array([229, 230, 231, 232, 256, 257, 258, 259, 260, 261, 262, 263, 264,\n",
    "       265, 266, 267, 268, 269, 270, 284, 285, 286, 287, 288, 289, 290,\n",
    "       291, 292, 293, 294, 295, 296, 297, 298, 299, 313, 314, 315, 316,\n",
    "       317, 318, 319, 320, 321, 322, 323, 324, 325, 326, 327, 328, 341,\n",
    "       342, 343, 347, 348, 349, 350, 351, 354, 355, 356, 370, 371, 382,\n",
    "       383, 384, 385, 398, 399, 400, 410, 411, 412, 413, 438, 439, 440,\n",
    "       441, 466, 467, 468, 494, 495, 496, 521, 522, 523, 524, 549, 550,\n",
    "       551, 552, 577, 578, 579, 580, 605, 606, 607, 633, 634, 635, 660,\n",
    "       661, 662, 688, 689, 690, 716, 717, 718, 744, 745, 746, 772, 773])"
   ]
  },
  {
   "cell_type": "code",
   "execution_count": 6,
   "metadata": {
    "collapsed": true
   },
   "outputs": [],
   "source": [
    "def judge_diff_type(outputVal, paraRowNum):\n",
    "\n",
    "    if outputVal == paraRowNum:\n",
    "        return 'diff main type'\n",
    "    else:\n",
    "        return 'diff other type'"
   ]
  },
  {
   "cell_type": "code",
   "execution_count": 9,
   "metadata": {},
   "outputs": [],
   "source": [
    "def judge_posi_nega(val):\n",
    "    if val>=0:\n",
    "        return 'important element : %s'%(val)\n",
    "    elif val<0:\n",
    "        pass \n",
    "    else:\n",
    "        return NotImplementedError"
   ]
  },
  {
   "cell_type": "code",
   "execution_count": 11,
   "metadata": {},
   "outputs": [
    {
     "data": {
      "text/plain": [
       "'important element : 9'"
      ]
     },
     "execution_count": 11,
     "metadata": {},
     "output_type": "execute_result"
    }
   ],
   "source": [
    "judge_posi_nega(9)"
   ]
  },
  {
   "cell_type": "code",
   "execution_count": null,
   "metadata": {
    "collapsed": true
   },
   "outputs": [],
   "source": []
  }
 ],
 "metadata": {
  "kernelspec": {
   "display_name": "Python 3",
   "language": "python",
   "name": "python3"
  },
  "language_info": {
   "codemirror_mode": {
    "name": "ipython",
    "version": 3
   },
   "file_extension": ".py",
   "mimetype": "text/x-python",
   "name": "python",
   "nbconvert_exporter": "python",
   "pygments_lexer": "ipython3",
   "version": "3.6.3"
  }
 },
 "nbformat": 4,
 "nbformat_minor": 2
}
